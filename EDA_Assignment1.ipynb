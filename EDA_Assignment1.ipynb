{
  "nbformat": 4,
  "nbformat_minor": 0,
  "metadata": {
    "colab": {
      "provenance": []
    },
    "kernelspec": {
      "name": "python3",
      "display_name": "Python 3"
    },
    "language_info": {
      "name": "python"
    }
  },
  "cells": [
    {
      "cell_type": "code",
      "execution_count": 15,
      "metadata": {
        "id": "wCIe2kSZi7Bq"
      },
      "outputs": [],
      "source": [
        "import pandas as pd\n",
        "df = pd.read_csv('car_price_dataset.csv')\n"
      ]
    },
    {
      "cell_type": "code",
      "source": [
        "# 1. What is the average price of all cars in the dataset\n",
        "avg = df['Price'].mean()\n",
        "print(\"The average price of all cars is :\", avg)\n"
      ],
      "metadata": {
        "colab": {
          "base_uri": "https://localhost:8080/"
        },
        "id": "-49rFUyXjG45",
        "outputId": "8ed0cc41-93d7-43c3-bc42-0eb602c21f66"
      },
      "execution_count": 16,
      "outputs": [
        {
          "output_type": "stream",
          "name": "stdout",
          "text": [
            "The average price of all cars is : 8852.9644\n"
          ]
        }
      ]
    },
    {
      "cell_type": "code",
      "source": [
        "# 2. Which car brand has the highest average price?\n",
        "brand_avg = df.groupby('Brand')['Price'].mean()\n",
        "print(f\"The car brand with the highest average price is : {brand_avg.idxmax()} with {brand_avg.max()} average value \")\n"
      ],
      "metadata": {
        "colab": {
          "base_uri": "https://localhost:8080/"
        },
        "id": "2I3xqR8tjkRL",
        "outputId": "f398ce37-dce2-4f28-9e50-c6814612f49c"
      },
      "execution_count": 41,
      "outputs": [
        {
          "output_type": "stream",
          "name": "stdout",
          "text": [
            "The car brand with the highest average price is : Chevrolet with 9015.683948155533 average value \n"
          ]
        }
      ]
    },
    {
      "cell_type": "code",
      "source": [
        "# 3. What is the most common fuel type in the dataset?\n",
        "fuel_type = df['Fuel_Type'].mode()\n",
        "print('The most common fuel type in the dataset is ',fuel_type)"
      ],
      "metadata": {
        "colab": {
          "base_uri": "https://localhost:8080/"
        },
        "id": "WDR8On3PnCrb",
        "outputId": "f418eeeb-8052-44f4-e34a-fd1099179aad"
      },
      "execution_count": 50,
      "outputs": [
        {
          "output_type": "stream",
          "name": "stdout",
          "text": [
            "The most common fuel type in the dataset is  0    Electric\n",
            "Name: Fuel_Type, dtype: object\n"
          ]
        }
      ]
    },
    {
      "cell_type": "code",
      "source": [
        "# 4. How many cars have a mileage greater than 200,000?\n",
        "mileage = (df['Mileage'] > 200000).sum()\n",
        "print(f\"The number of cars with mileage greater than 200,000 is {mileage}\")\n"
      ],
      "metadata": {
        "colab": {
          "base_uri": "https://localhost:8080/"
        },
        "id": "cgz5gxGRpQ6P",
        "outputId": "b96c0ad0-0446-48ad-c2b3-442c85420c6e"
      },
      "execution_count": 51,
      "outputs": [
        {
          "output_type": "stream",
          "name": "stdout",
          "text": [
            "The number of cars with mileage greater than 200,000 is 3290\n"
          ]
        }
      ]
    },
    {
      "cell_type": "code",
      "source": [
        "# 5. What is the distribution of cars by transmission type?\n",
        "transmission = df['Transmission'].value_counts()\n",
        "print(f\"The distribution of cars by transmission type is : \\n {transmission}\")\n"
      ],
      "metadata": {
        "colab": {
          "base_uri": "https://localhost:8080/"
        },
        "id": "B2dx_RDJqT_i",
        "outputId": "abf5f28a-097e-438d-efa9-ccadadc6e52f"
      },
      "execution_count": 52,
      "outputs": [
        {
          "output_type": "stream",
          "name": "stdout",
          "text": [
            "The distribution of cars by transmission type is : \n",
            " Transmission\n",
            "Manual            3372\n",
            "Automatic         3317\n",
            "Semi-Automatic    3311\n",
            "Name: count, dtype: int64\n"
          ]
        }
      ]
    },
    {
      "cell_type": "code",
      "source": [
        "# 6. Which car model has the highest price?\n",
        "model_price = df.groupby('Model')['Price'].max()\n",
        "print(f\"The car model with the highest price is : {model_price.idxmax()} with {model_price.max()}$ as price\")"
      ],
      "metadata": {
        "colab": {
          "base_uri": "https://localhost:8080/"
        },
        "id": "bT0kQkAcqeAV",
        "outputId": "857e300f-d714-4b88-ba4a-6f8234ed8eea"
      },
      "execution_count": 59,
      "outputs": [
        {
          "output_type": "stream",
          "name": "stdout",
          "text": [
            "The car model with the highest price is : Corolla with 18301$ as price\n"
          ]
        }
      ]
    },
    {
      "cell_type": "code",
      "source": [
        "#7. What is the average price of cars by fuel type?\n",
        "fuel_price = df.groupby('Fuel_Type')['Price'].mean()\n",
        "print(f\"The average price of cars by fuel type is : \\n {fuel_price}\")\n"
      ],
      "metadata": {
        "colab": {
          "base_uri": "https://localhost:8080/"
        },
        "id": "pF-yltaYqxFx",
        "outputId": "40ed9b62-8bd3-4342-ce4b-aede4b5d56a0"
      },
      "execution_count": 60,
      "outputs": [
        {
          "output_type": "stream",
          "name": "stdout",
          "text": [
            "The average price of cars by fuel type is : \n",
            " Fuel_Type\n",
            "Diesel       8117.336385\n",
            "Electric    10032.220190\n",
            "Hybrid       9113.030167\n",
            "Petrol       8070.561826\n",
            "Name: Price, dtype: float64\n"
          ]
        }
      ]
    },
    {
      "cell_type": "code",
      "source": [
        "#8. How many cars are from the year 2020 or later?\n",
        "year = (df['Year'] >= 2020).sum()\n",
        "print(f\"The number of cars from the year 2020 or later is {year}\")\n"
      ],
      "metadata": {
        "colab": {
          "base_uri": "https://localhost:8080/"
        },
        "id": "P3nVE93LrqNx",
        "outputId": "f0735c59-d3b2-4a12-9844-3ffda82ed9d6"
      },
      "execution_count": 61,
      "outputs": [
        {
          "output_type": "stream",
          "name": "stdout",
          "text": [
            "The number of cars from the year 2020 or later is 1651\n"
          ]
        }
      ]
    },
    {
      "cell_type": "code",
      "source": [
        "#9. What is the average engine size for each brand?\n",
        "engine_size = df.groupby('Brand')['Engine_Size'].mean()\n",
        "print(f\"The average engine size for each brand is : \\n {engine_size}\")"
      ],
      "metadata": {
        "colab": {
          "base_uri": "https://localhost:8080/"
        },
        "id": "3RCxCk7ZrzNk",
        "outputId": "242552ab-2484-4884-d6e1-b3a0a0823a3a"
      },
      "execution_count": 62,
      "outputs": [
        {
          "output_type": "stream",
          "name": "stdout",
          "text": [
            "The average engine size for each brand is : \n",
            " Brand\n",
            "Audi          3.032948\n",
            "BMW           2.976877\n",
            "Chevrolet     2.993719\n",
            "Ford          3.044275\n",
            "Honda         2.925966\n",
            "Hyundai       2.936683\n",
            "Kia           3.053791\n",
            "Mercedes      3.069745\n",
            "Toyota        2.961443\n",
            "Volkswagen    3.011078\n",
            "Name: Engine_Size, dtype: float64\n"
          ]
        }
      ]
    },
    {
      "cell_type": "code",
      "source": [
        "#10. Which car has the lowest mileage?\n",
        "mileage_car = df.loc[df['Mileage'].idxmin()]\n",
        "print(f\"The car with the lowest mileage is : \\n {mileage_car}\")\n"
      ],
      "metadata": {
        "colab": {
          "base_uri": "https://localhost:8080/"
        },
        "id": "mhZ08Ywpr63x",
        "outputId": "d740a614-cc92-4a60-8e5d-85960ab157c8"
      },
      "execution_count": 63,
      "outputs": [
        {
          "output_type": "stream",
          "name": "stdout",
          "text": [
            "The car with the lowest mileage is : \n",
            " Brand                     Ford\n",
            "Model                 Explorer\n",
            "Year                      2006\n",
            "Engine_Size                1.6\n",
            "Fuel_Type             Electric\n",
            "Transmission    Semi-Automatic\n",
            "Mileage                     25\n",
            "Doors                        3\n",
            "Owner_Count                  2\n",
            "Price                     9499\n",
            "Name: 6824, dtype: object\n"
          ]
        }
      ]
    },
    {
      "cell_type": "code",
      "source": [
        "#11. What is the correlation between mileage and price?\n",
        "correlation = df['Mileage'].corr(df['Price'])\n",
        "print(f\"The correlation between mileage and price is : {correlation}\")\n"
      ],
      "metadata": {
        "colab": {
          "base_uri": "https://localhost:8080/"
        },
        "id": "E6bV8IuJsBod",
        "outputId": "c4f5a117-7ac6-48df-c01b-7f07290a6f36"
      },
      "execution_count": 64,
      "outputs": [
        {
          "output_type": "stream",
          "name": "stdout",
          "text": [
            "The correlation between mileage and price is : -0.5512271827629014\n"
          ]
        }
      ]
    },
    {
      "cell_type": "code",
      "source": [
        "#12. How many cars have more than 2 owners?\n",
        "owners = (df['Owner_Count'] > 2).sum()\n",
        "print(f\"The number of cars with more than 2 owners is : {owners}\")\n"
      ],
      "metadata": {
        "colab": {
          "base_uri": "https://localhost:8080/"
        },
        "id": "nXEVtb0VsXry",
        "outputId": "ce49f022-2b45-4e3f-aad9-f14b1b35bb0c"
      },
      "execution_count": 68,
      "outputs": [
        {
          "output_type": "stream",
          "name": "stdout",
          "text": [
            "The number of cars with more than 2 owners is : 5944\n"
          ]
        }
      ]
    },
    {
      "cell_type": "code",
      "source": [
        "#13. What is the average price of cars by year?\n",
        "year_price = df.groupby('Year')['Price'].mean()\n",
        "print(f\"The average price of cars by year is : \\n {year_price}\")"
      ],
      "metadata": {
        "colab": {
          "base_uri": "https://localhost:8080/"
        },
        "id": "DRFPDP0us2mj",
        "outputId": "22f62905-cfae-4ef1-debc-a3027ec452e5"
      },
      "execution_count": 69,
      "outputs": [
        {
          "output_type": "stream",
          "name": "stdout",
          "text": [
            "The average price of cars by year is : \n",
            " Year\n",
            "2000     5393.735369\n",
            "2001     5904.064039\n",
            "2002     5956.751082\n",
            "2003     6225.834646\n",
            "2004     6330.725888\n",
            "2005     6943.037123\n",
            "2006     7249.961446\n",
            "2007     7632.513953\n",
            "2008     7728.418848\n",
            "2009     8083.917293\n",
            "2010     8503.419954\n",
            "2011     8622.855234\n",
            "2012     9011.446224\n",
            "2013     9114.208531\n",
            "2014     9587.455635\n",
            "2015     9896.774648\n",
            "2016    10177.600000\n",
            "2017    10343.757506\n",
            "2018    10939.192941\n",
            "2019    11132.722090\n",
            "2020    11495.284337\n",
            "2021    11637.813299\n",
            "2022    12067.690176\n",
            "2023    12169.470982\n",
            "Name: Price, dtype: float64\n"
          ]
        }
      ]
    },
    {
      "cell_type": "code",
      "source": [
        "#14. Which car has the highest number of doors?\n",
        "doors_car = df.loc[df['Doors'].idxmax()]\n",
        "print(f\"The car with the highest number of doors is : \\n {doors_car}\")\n"
      ],
      "metadata": {
        "colab": {
          "base_uri": "https://localhost:8080/"
        },
        "id": "9HduiQC1tF3o",
        "outputId": "6de3d32d-f6ba-45d9-8b2d-0b7b077f016c"
      },
      "execution_count": 70,
      "outputs": [
        {
          "output_type": "stream",
          "name": "stdout",
          "text": [
            "The car with the highest number of doors is : \n",
            " Brand           Volkswagen\n",
            "Model                 Golf\n",
            "Year                  2003\n",
            "Engine_Size            2.4\n",
            "Fuel_Type           Petrol\n",
            "Transmission     Automatic\n",
            "Mileage             145921\n",
            "Doors                    5\n",
            "Owner_Count              2\n",
            "Price                 5981\n",
            "Name: 14, dtype: object\n"
          ]
        }
      ]
    },
    {
      "cell_type": "code",
      "source": [
        "#15. What is the average mileage for each fuel type?\n",
        "mileage_fuel = df.groupby('Fuel_Type')['Mileage'].mean()\n",
        "print(f\"The average mileage for each fuel type is : \\n {mileage_fuel}\")\n"
      ],
      "metadata": {
        "colab": {
          "base_uri": "https://localhost:8080/"
        },
        "id": "hn-V0SAYtYhw",
        "outputId": "28488aaa-35e4-4199-c6d7-d1ff182bd430"
      },
      "execution_count": 71,
      "outputs": [
        {
          "output_type": "stream",
          "name": "stdout",
          "text": [
            "The average mileage for each fuel type is : \n",
            " Fuel_Type\n",
            "Diesel      150261.533041\n",
            "Electric    151059.307429\n",
            "Hybrid      145577.587036\n",
            "Petrol      149917.694606\n",
            "Name: Mileage, dtype: float64\n"
          ]
        }
      ]
    },
    {
      "cell_type": "code",
      "source": [
        "#16. How many cars are from the brand 'Toyota'?\n",
        "toyota = (df['Brand'] == 'Toyota').sum()\n",
        "print(f\"The number of cars from the brand 'Toyota' is : {toyota}\")"
      ],
      "metadata": {
        "colab": {
          "base_uri": "https://localhost:8080/"
        },
        "id": "2kzicHC3tjgn",
        "outputId": "05e75919-f23d-4e7e-d9e1-ea1e369f3a93"
      },
      "execution_count": 72,
      "outputs": [
        {
          "output_type": "stream",
          "name": "stdout",
          "text": [
            "The number of cars from the brand 'Toyota' is : 970\n"
          ]
        }
      ]
    },
    {
      "cell_type": "code",
      "source": [
        "#17. What is the average price of cars with automatic transmission?\n",
        "transmission_price = df.loc[df['Transmission'] == 'Automatic']['Price'].mean()\n",
        "print(f\"The average price of cars with automatic transmission is : {transmission_price}\")"
      ],
      "metadata": {
        "colab": {
          "base_uri": "https://localhost:8080/"
        },
        "id": "nhKwdHbmtru4",
        "outputId": "4cde3365-62a0-4101-f270-f165a1cf8867"
      },
      "execution_count": 73,
      "outputs": [
        {
          "output_type": "stream",
          "name": "stdout",
          "text": [
            "The average price of cars with automatic transmission is : 9938.252939403075\n"
          ]
        }
      ]
    },
    {
      "cell_type": "code",
      "source": [
        "#18. Which car has the highest owner count?\n",
        "owner_count = df.loc[df['Owner_Count'].idxmax()]\n",
        "print(f\"The car with the highest owner count is : \\n {owner_count}\")"
      ],
      "metadata": {
        "colab": {
          "base_uri": "https://localhost:8080/"
        },
        "id": "RqOGDU3MtzRG",
        "outputId": "6617145d-994e-4581-fd70-0c85a87b8568"
      },
      "execution_count": 74,
      "outputs": [
        {
          "output_type": "stream",
          "name": "stdout",
          "text": [
            "The car with the highest owner count is : \n",
            " Brand              Kia\n",
            "Model              Rio\n",
            "Year              2020\n",
            "Engine_Size        4.2\n",
            "Fuel_Type       Diesel\n",
            "Transmission    Manual\n",
            "Mileage         289944\n",
            "Doors                3\n",
            "Owner_Count          5\n",
            "Price             8501\n",
            "Name: 0, dtype: object\n"
          ]
        }
      ]
    },
    {
      "cell_type": "code",
      "source": [
        "#19. What is the average engine size for cars with diesel fuel type?\n",
        "diesel_engine = df.loc[df['Fuel_Type'] == 'Diesel']['Engine_Size'].mean()\n",
        "print(f\"The average engine size for cars with diesel fuel type is : {diesel_engine}\")"
      ],
      "metadata": {
        "colab": {
          "base_uri": "https://localhost:8080/"
        },
        "id": "CXu7O_uDt5kj",
        "outputId": "d156f38e-96e4-44ee-a505-02d2c0239a4f"
      },
      "execution_count": 75,
      "outputs": [
        {
          "output_type": "stream",
          "name": "stdout",
          "text": [
            "The average engine size for cars with diesel fuel type is : 3.011863057324841\n"
          ]
        }
      ]
    },
    {
      "cell_type": "code",
      "source": [
        "#20. How many cars have a price greater than $10,000?\n",
        "price = (df['Price'] > 10000).sum()\n",
        "print(f\"The number of cars with a price greater than $10,000 is : {price}\")\n"
      ],
      "metadata": {
        "colab": {
          "base_uri": "https://localhost:8080/"
        },
        "id": "xdC-aqzkuE93",
        "outputId": "e8b1a03f-9ead-4031-920d-7423c5390d8a"
      },
      "execution_count": 76,
      "outputs": [
        {
          "output_type": "stream",
          "name": "stdout",
          "text": [
            "The number of cars with a price greater than $10,000 is : 3651\n"
          ]
        }
      ]
    },
    {
      "cell_type": "code",
      "source": [],
      "metadata": {
        "id": "3XipB375uJiV"
      },
      "execution_count": null,
      "outputs": []
    }
  ]
}